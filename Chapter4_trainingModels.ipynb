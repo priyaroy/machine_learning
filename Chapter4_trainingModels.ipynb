{
 "cells": [
  {
   "cell_type": "code",
   "execution_count": 1,
   "metadata": {},
   "outputs": [
    {
     "data": {
      "text/plain": [
       "<Figure size 640x480 with 1 Axes>"
      ]
     },
     "metadata": {},
     "output_type": "display_data"
    }
   ],
   "source": [
    "#Generate a linear-like distribution & fit\n",
    "\n",
    "import numpy as np\n",
    "import matplotlib.pyplot as plt\n",
    "\n",
    "x=np.random.rand(100,1)\n",
    "y = 6+np.random.rand(100,1) + 2*x \n",
    "\n",
    "plt.scatter(x,y)\n",
    "plt.show()\n"
   ]
  },
  {
   "cell_type": "code",
   "execution_count": 2,
   "metadata": {},
   "outputs": [
    {
     "name": "stdout",
     "output_type": "stream",
     "text": [
      "\n",
      "\n",
      "Best estimates (computed) for intercept and slope are:\n",
      "[[6.50077901]\n",
      " [1.96405484]]\n"
     ]
    }
   ],
   "source": [
    "#Compute best estimates of the parameters, offset and slope\n",
    "#Here X_b has first column as a collection of 1s because x_0\n",
    "# is 1. Basically, Y = c + mx or Y = (c m).X_b\n",
    "\n",
    "X_b = np.c_[np.ones((100,1)), x]\n",
    "#print(X_b)\n",
    "print(\"\\n\")\n",
    "theta_best = np.linalg.inv(X_b.T.dot(X_b)).dot(X_b.T).dot(y)\n",
    "print(\"Best estimates (computed) for intercept and slope are:\")\n",
    "print(theta_best)"
   ]
  },
  {
   "cell_type": "code",
   "execution_count": 3,
   "metadata": {},
   "outputs": [
    {
     "data": {
      "text/plain": [
       "(array([6.50077901]), array([[1.96405484]]))"
      ]
     },
     "execution_count": 3,
     "metadata": {},
     "output_type": "execute_result"
    }
   ],
   "source": [
    "#What we did above is performed by sklearn behind-the-scenes. \n",
    "# Here are the sklearn commands to find the best estimates\n",
    "\n",
    "from sklearn.linear_model import LinearRegression\n",
    "\n",
    "lin_reg = LinearRegression()\n",
    "lin_reg.fit(x,y)\n",
    "\n",
    "#print the best estimates for the fit coefficients\n",
    "lin_reg.intercept_, lin_reg.coef_"
   ]
  },
  {
   "cell_type": "code",
   "execution_count": 45,
   "metadata": {},
   "outputs": [
    {
     "name": "stdout",
     "output_type": "stream",
     "text": [
      "norm of initialized gradient =  1.4142135623730951\n"
     ]
    },
    {
     "data": {
      "image/png": "[encoded data removed]",
      "text/plain": [
       "<Figure size 432x288 with 1 Axes>"
      ]
     },
     "metadata": {
      "needs_background": "light"
     },
     "output_type": "display_data"
    },
    {
     "name": "stdout",
     "output_type": "stream",
     "text": [
      "\n",
      "\n",
      "[[6.485553  ]\n",
      " [1.99119638]]\n"
     ]
    }
   ],
   "source": [
    "#Gradient descent\n",
    "\n",
    "from numpy import linalg as la\n",
    "\n",
    "eta = 0.5 #step size or learning rate\n",
    "m = 100 #number of instances or row entries\n",
    "\n",
    "theta = np.random.randn(2,1) #random initialization of \n",
    "                       #the two coefficients\n",
    "\n",
    "gradients = np.array([1,1])\n",
    "e = 0.005 #tolerance\n",
    "print(\"norm of initialized gradient = \",la.norm(gradients))\n",
    "while la.norm(gradients) > e:\n",
    "    gradients = 2/m * X_b.T.dot(X_b.dot(theta) - y)\n",
    "    #print(\"gradient = \", gradients)\n",
    "    theta = theta - eta*gradients\n",
    "    #print(theta[0], gradients[0])\n",
    "    plt.plot(theta[0], gradients[0], 'r.', ms=5)\n",
    "    \n",
    "plt.xlim([6,7]); plt.ylim([-0.1,0.1])\n",
    "plt.show()\n",
    "print(\"\\n\")\n",
    "print(theta)"
   ]
  },
  {
   "cell_type": "code",
   "execution_count": null,
   "metadata": {},
   "outputs": [],
   "source": []
  },
  {
   "cell_type": "code",
   "execution_count": null,
   "metadata": {},
   "outputs": [],
   "source": []
  },
  {
   "cell_type": "code",
   "execution_count": null,
   "metadata": {},
   "outputs": [],
   "source": []
  }
 ],
 "metadata": {
  "kernelspec": {
   "display_name": "Python 3",
   "language": "python",
   "name": "python3"
  },
  "language_info": {
   "codemirror_mode": {
    "name": "ipython",
    "version": 3
   },
   "file_extension": ".py",
   "mimetype": "text/x-python",
   "name": "python",
   "nbconvert_exporter": "python",
   "pygments_lexer": "ipython3",
   "version": "3.5.2"
  }
 },
 "nbformat": 4,
 "nbformat_minor": 2
}
