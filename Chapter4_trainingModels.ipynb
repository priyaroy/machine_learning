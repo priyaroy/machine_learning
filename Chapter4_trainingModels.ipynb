{
 "cells": [
  {
   "cell_type": "code",
   "execution_count": 1,
   "metadata": {},
   "outputs": [
    {
     "data": {
      "text/plain": [
       "<Figure size 640x480 with 1 Axes>"
      ]
     },
     "metadata": {},
     "output_type": "display_data"
    }
   ],
   "source": [
    "#Generate a linear-like distribution & fit\n",
    "\n",
    "import numpy as np\n",
    "import matplotlib.pyplot as plt\n",
    "\n",
    "x=np.random.rand(100,1)\n",
    "y = 6+np.random.rand(100,1) + 2*x \n",
    "\n",
    "plt.scatter(x,y)\n",
    "plt.show()\n"
   ]
  },
  {
   "cell_type": "code",
   "execution_count": 2,
   "metadata": {},
   "outputs": [
    {
     "name": "stdout",
     "output_type": "stream",
     "text": [
      "\n",
      "\n",
      "Best estimates (computed) for intercept and slope are:\n",
      "[[6.57432019]\n",
      " [1.84539712]]\n"
     ]
    }
   ],
   "source": [
    "#Compute best estimates of the parameters, offset and slope\n",
    "#Here X_b has first column as a collection of 1s because x_0\n",
    "# is 1. Basically, Y = c + mx or Y = (c m).X_b\n",
    "\n",
    "X_b = np.c_[np.ones((100,1)), x]\n",
    "#print(X_b)\n",
    "print(\"\\n\")\n",
    "theta_best = np.linalg.inv(X_b.T.dot(X_b)).dot(X_b.T).dot(y)\n",
    "print(\"Best estimates (computed) for intercept and slope are:\")\n",
    "print(theta_best)"
   ]
  },
  {
   "cell_type": "code",
   "execution_count": 3,
   "metadata": {},
   "outputs": [
    {
     "data": {
      "text/plain": [
       "(array([6.57432019]), array([[1.84539712]]))"
      ]
     },
     "execution_count": 3,
     "metadata": {},
     "output_type": "execute_result"
    }
   ],
   "source": [
    "#What we did above is performed by sklearn behind-the-scenes. \n",
    "# Here are the sklearn commands to find the best estimates\n",
    "\n",
    "from sklearn.linear_model import LinearRegression\n",
    "\n",
    "lin_reg = LinearRegression()\n",
    "lin_reg.fit(x,y)\n",
    "\n",
    "#print the best estimates for the fit coefficients\n",
    "lin_reg.intercept_, lin_reg.coef_"
   ]
  },
  {
   "cell_type": "code",
   "execution_count": 4,
   "metadata": {},
   "outputs": [
    {
     "name": "stdout",
     "output_type": "stream",
     "text": [
      "norm of initialized gradient =  1.4142135623730951\n"
     ]
    },
    {
     "data": {
      "image/png": "[encoded data removed]",
      "text/plain": [
       "<Figure size 432x288 with 1 Axes>"
      ]
     },
     "metadata": {
      "needs_background": "light"
     },
     "output_type": "display_data"
    },
    {
     "name": "stdout",
     "output_type": "stream",
     "text": [
      "\n",
      "\n",
      "[[6.55666134]\n",
      " [1.8768535 ]]\n"
     ]
    }
   ],
   "source": [
    "#Gradient descent\n",
    "\n",
    "from numpy import linalg as la\n",
    "\n",
    "eta = 0.5 #step size or learning rate\n",
    "m = 100 #number of instances or row entries\n",
    "\n",
    "theta = np.random.randn(2,1) #random initialization of \n",
    "                       #the two coefficients\n",
    "\n",
    "gradients = np.array([1,1])\n",
    "e = 0.005 #tolerance\n",
    "print(\"norm of initialized gradient = \",la.norm(gradients))\n",
    "while la.norm(gradients) > e:\n",
    "    gradients = 2/m * X_b.T.dot(X_b.dot(theta) - y)\n",
    "    #print(\"gradient = \", gradients)\n",
    "    theta = theta - eta*gradients\n",
    "    #print(theta[0], gradients[0])\n",
    "    plt.plot(theta[0], gradients[0], 'r.', ms=5)\n",
    "    \n",
    "plt.xlim([6,7]); plt.ylim([-0.1,0.1])\n",
    "plt.show()\n",
    "print(\"\\n\")\n",
    "print(theta)"
   ]
  },
  {
   "cell_type": "code",
   "execution_count": 5,
   "metadata": {},
   "outputs": [
    {
     "name": "stdout",
     "output_type": "stream",
     "text": [
      " [[6.55092473]\n",
      " [1.87124242]]\n"
     ]
    }
   ],
   "source": [
    "#Stochastic gradient descent\n",
    "\n",
    "#In stochastic gradient descent, the best estimates for the \n",
    "#coefficients are calculated per entry in the data, unlike \n",
    "# in batch gradient descent. \n",
    "#Therefore, it requires much lesser iterations with the\n",
    "#full dataset to determine the best estimates with the \n",
    "#desired tolerance. \n",
    "\n",
    "#Define # of iterations or rounds\n",
    "n_epochs = 50\n",
    "\n",
    "#number of instances in the data\n",
    "m = 50\n",
    "\n",
    "#Learning schedule parameters\n",
    "t0, t1 = 5, 50\n",
    "\n",
    "#Define learning rate, or step size, per iteration. We decrease\n",
    "#the step size as we progress, to converge to a minimum. \n",
    "\n",
    "def learning_rate(t):\n",
    "    return t0/(t+t1)\n",
    "\n",
    "#Random initialization of the coefficients of the linear fit\n",
    "\n",
    "theta = np.random.randn(2,1)\n",
    "\n",
    "for epoch in range(n_epochs):\n",
    "    for i in range(m):\n",
    "        #choose a random entry between 1 to m\n",
    "        index = np.random.randint(m)\n",
    "        xi = X_b[index:index+1]\n",
    "        yi = y[index:index+1]\n",
    "        gradients = 2*xi.T.dot(xi.dot(theta) - yi)\n",
    "        eta = learning_rate(epoch*m+i)\n",
    "        theta = theta - eta*gradients\n",
    "        \n",
    "print(\"\",  theta)"
   ]
  },
  {
   "cell_type": "code",
   "execution_count": 6,
   "metadata": {},
   "outputs": [
    {
     "name": "stdout",
     "output_type": "stream",
     "text": [
      "[6.57288228] [1.85938888]\n"
     ]
    },
    {
     "name": "stderr",
     "output_type": "stream",
     "text": [
      "/home/priyaroy/machine_learning/env/lib/python3.5/site-packages/sklearn/linear_model/stochastic_gradient.py:130: DeprecationWarning: n_iter parameter is deprecated in 0.19 and will be removed in 0.21. Use max_iter and tol instead.\n",
      "  DeprecationWarning)\n"
     ]
    }
   ],
   "source": [
    "#Stochastic gradient descent using Scikit-learn\n",
    "\n",
    "from sklearn.linear_model import SGDRegressor\n",
    "\n",
    "sgd_reg = SGDRegressor(n_iter=50, penalty=None, eta0=0.1) \n",
    "#here eta is the starting learning rate\n",
    "\n",
    "sgd_reg.fit(x, y.ravel())\n",
    "#np.ravel() returns a 1 D array. It is the same as reshape(-1)\n",
    "\n",
    "print(sgd_reg.intercept_, sgd_reg.coef_)"
   ]
  },
  {
   "cell_type": "code",
   "execution_count": 16,
   "metadata": {},
   "outputs": [
    {
     "data": {
      "text/plain": [
       "<matplotlib.collections.PathCollection at 0x7f51326159b0>"
      ]
     },
     "execution_count": 16,
     "metadata": {},
     "output_type": "execute_result"
    },
    {
     "data": {
      "image/png": "[encoded data removed]",
      "text/plain": [
       "<Figure size 432x288 with 1 Axes>"
      ]
     },
     "metadata": {
      "needs_background": "light"
     },
     "output_type": "display_data"
    }
   ],
   "source": [
    "#Multilinear fit\n",
    "\n",
    "#Create a non-linear data\n",
    "\n",
    "x = np.random.randn(100,1)\n",
    "\n",
    "offset = 5 + np.random.randn(100,1)\n",
    "\n",
    "y = 0.5*x**2 + x + offset\n",
    "\n",
    "plt.scatter(x,y, color=\"red\", s = 5)"
   ]
  },
  {
   "cell_type": "code",
   "execution_count": 18,
   "metadata": {},
   "outputs": [
    {
     "name": "stdout",
     "output_type": "stream",
     "text": [
      "Zeroeth row of untransformed x =  [-1.62605332]\n",
      "Zeroeth row of transformed x =  [-1.62605332  2.64404941]\n"
     ]
    }
   ],
   "source": [
    "# Fit the plt using polynomial features\n",
    "\n",
    "from sklearn.preprocessing import PolynomialFeatures\n",
    "\n",
    "#Transform your data into upto 2nd-degree in X\n",
    "#include_bias=False will drop all ones\n",
    "\n",
    "poly_fea = PolynomialFeatures(degree=2, include_bias=False)\n",
    "x_poly = poly_fea.fit_transform(x)\n",
    "\n",
    "print(\"Zeroeth row of untransformed x = \", x[0])\n",
    "print(\"Zeroeth row of transformed x = \", x_poly[0])\n"
   ]
  },
  {
   "cell_type": "code",
   "execution_count": 36,
   "metadata": {},
   "outputs": [
    {
     "name": "stdout",
     "output_type": "stream",
     "text": [
      "[[0.9709848  0.54746746]]\n"
     ]
    },
    {
     "data": {
      "image/png": "[encoded data removed]",
      "text/plain": [
       "<Figure size 432x288 with 1 Axes>"
      ]
     },
     "metadata": {
      "needs_background": "light"
     },
     "output_type": "display_data"
    }
   ],
   "source": [
    "#Now perform linear fit with the transformed data which \n",
    "# is up to 2nd-degree in x\n",
    "\n",
    "lin_reg = LinearRegression()\n",
    "\n",
    "lin_reg.fit(x_poly, y)\n",
    "\n",
    "a = lin_reg.intercept_\n",
    "b = lin_reg.coef_\n",
    "\n",
    "print(b)\n",
    "\n",
    "# Define a polynomial model from the above fit results\n",
    "#Define a new array of x with 100 elements\n",
    "\n",
    "x_lin = np.linspace(-2, 3, 100)\n",
    "poly_model = a+b[0][0]*x_lin+b[0][1]*x_lin**2\n",
    "\n",
    "#poly_model.shape\n",
    "\n",
    "#Plot the data\n",
    "plt.scatter(x, y, color=\"red\", s = 5)\n",
    "\n",
    "# Plot the polynomial model \n",
    "plt.plot(x_lin, poly_model, 'b--')\n",
    "\n",
    "plt.show()"
   ]
  },
  {
   "cell_type": "code",
   "execution_count": null,
   "metadata": {},
   "outputs": [],
   "source": []
  }
 ],
 "metadata": {
  "kernelspec": {
   "display_name": "Python 3",
   "language": "python",
   "name": "python3"
  },
  "language_info": {
   "codemirror_mode": {
    "name": "ipython",
    "version": 3
   },
   "file_extension": ".py",
   "mimetype": "text/x-python",
   "name": "python",
   "nbconvert_exporter": "python",
   "pygments_lexer": "ipython3",
   "version": "3.5.2"
  }
 },
 "nbformat": 4,
 "nbformat_minor": 2
}
